{
 "cells": [
  {
   "cell_type": "code",
   "execution_count": 2,
   "metadata": {},
   "outputs": [],
   "source": [
    "import sympy as sp\n"
   ]
  },
  {
   "cell_type": "code",
   "execution_count": 10,
   "metadata": {},
   "outputs": [
    {
     "name": "stdout",
     "output_type": "stream",
     "text": [
      "(Matrix([\n",
      "[1, 0,  1, 0, -2/5],\n",
      "[0, 1, -1, 0,  4/5],\n",
      "[0, 0,  0, 1,  1/5]]), (0, 1, 3))\n"
     ]
    }
   ],
   "source": [
    "# Augmented matrix problem 1\n",
    "A = sp.Matrix([[1,2,-1,-1,1], [2,4,-2,3,3], [-1,1,-2,4,2]])\n",
    "# Return the rref and the pivot column indices as a tuple\n",
    "print(A.rref())"
   ]
  },
  {
   "cell_type": "code",
   "execution_count": 13,
   "metadata": {},
   "outputs": [
    {
     "name": "stdout",
     "output_type": "stream",
     "text": [
      "(Matrix([\n",
      "[1, 0, 2],\n",
      "[0, 1, 3],\n",
      "[0, 0, 0]]), (0, 1))\n"
     ]
    }
   ],
   "source": [
    "#Augmented Matrix problem 2\n",
    "A = sp.Matrix([[1,1,5],\n",
    "               [1, -1,-1],\n",
    "               [5,-1,7 ]])\n",
    "print(A.rref()) "
   ]
  },
  {
   "cell_type": "code",
   "execution_count": 17,
   "metadata": {},
   "outputs": [
    {
     "name": "stdout",
     "output_type": "stream",
     "text": [
      "(Matrix([\n",
      "[1, 0, -5,  5],\n",
      "[0, 1,  4, -2],\n",
      "[0, 0,  0,  0],\n",
      "[0, 0,  0,  0]]), (0, 1))\n"
     ]
    }
   ],
   "source": [
    "#Augmented Matrix problem 3\n",
    "A = sp.Matrix([[1,1,-1,3],\n",
    "               [2,3,2,4],\n",
    "               [2,1,-6,8],\n",
    "               [3,5,5,5]])\n",
    "\n",
    "print(A.rref()) "
   ]
  },
  {
   "cell_type": "code",
   "execution_count": 21,
   "metadata": {},
   "outputs": [
    {
     "name": "stdout",
     "output_type": "stream",
     "text": [
      "(Matrix([\n",
      "[1, 0, 0, 0],\n",
      "[0, 1, 0, 0],\n",
      "[0, 0, 1, 0],\n",
      "[0, 0, 0, 1]]), (0, 1, 2, 3))\n"
     ]
    }
   ],
   "source": [
    "#Augmented Matrix problem 4\n",
    "A = sp.Matrix([[1,1,2,1],\n",
    "               [1,2,1,2],\n",
    "               [2,4,1,3],\n",
    "               [3,-2,4,4]])\n",
    "print(A.rref()) \n"
   ]
  }
 ],
 "metadata": {
  "kernelspec": {
   "display_name": "AIMLSem1",
   "language": "python",
   "name": "python3"
  },
  "language_info": {
   "codemirror_mode": {
    "name": "ipython",
    "version": 3
   },
   "file_extension": ".py",
   "mimetype": "text/x-python",
   "name": "python",
   "nbconvert_exporter": "python",
   "pygments_lexer": "ipython3",
   "version": "3.9.17"
  }
 },
 "nbformat": 4,
 "nbformat_minor": 2
}
